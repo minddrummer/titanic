{
 "metadata": {
  "name": "",
  "signature": "sha256:2eeb9a781a42d885df4c12ff159a44cac0901ddc6c5bdddc632e157a5fa42983"
 },
 "nbformat": 3,
 "nbformat_minor": 0,
 "worksheets": [
  {
   "cells": [
    {
     "cell_type": "code",
     "collapsed": false,
     "input": [
      "import os\n",
      "os.getcwd()\n",
      "os.listdir('.')"
     ],
     "language": "python",
     "metadata": {},
     "outputs": [
      {
       "metadata": {},
       "output_type": "pyout",
       "prompt_number": 1,
       "text": [
        "['.ipynb_checkpoints',\n",
        " 'algorithms.txt',\n",
        " 'genderclassmodel.csv',\n",
        " 'genderclassmodel.py',\n",
        " 'gendermodel.csv',\n",
        " 'gendermodel.py',\n",
        " 'myfirstforest.csv',\n",
        " 'myfirstforest.py',\n",
        " 'test.csv',\n",
        " 'titanic.ipynb',\n",
        " 'train.csv']"
       ]
      }
     ],
     "prompt_number": 1
    },
    {
     "cell_type": "code",
     "collapsed": false,
     "input": [
      "import pandas as pd\n",
      "import numpy as np\n",
      "import matplotlib.pyplot as plt\n",
      "import re"
     ],
     "language": "python",
     "metadata": {},
     "outputs": [],
     "prompt_number": 240
    },
    {
     "cell_type": "code",
     "collapsed": false,
     "input": [
      "data = pd.read_csv('train.csv')\n",
      "print data"
     ],
     "language": "python",
     "metadata": {},
     "outputs": [
      {
       "output_type": "stream",
       "stream": "stdout",
       "text": [
        "     PassengerId  Survived  Pclass  \\\n",
        "0              1         0       3   \n",
        "1              2         1       1   \n",
        "2              3         1       3   \n",
        "3              4         1       1   \n",
        "4              5         0       3   \n",
        "5              6         0       3   \n",
        "6              7         0       1   \n",
        "7              8         0       3   \n",
        "8              9         1       3   \n",
        "9             10         1       2   \n",
        "10            11         1       3   \n",
        "11            12         1       1   \n",
        "12            13         0       3   \n",
        "13            14         0       3   \n",
        "14            15         0       3   \n",
        "15            16         1       2   \n",
        "16            17         0       3   \n",
        "17            18         1       2   \n",
        "18            19         0       3   \n",
        "19            20         1       3   \n",
        "20            21         0       2   \n",
        "21            22         1       2   \n",
        "22            23         1       3   \n",
        "23            24         1       1   \n",
        "24            25         0       3   \n",
        "25            26         1       3   \n",
        "26            27         0       3   \n",
        "27            28         0       1   \n",
        "28            29         1       3   \n",
        "29            30         0       3   \n",
        "..           ...       ...     ...   \n",
        "861          862         0       2   \n",
        "862          863         1       1   \n",
        "863          864         0       3   \n",
        "864          865         0       2   \n",
        "865          866         1       2   \n",
        "866          867         1       2   \n",
        "867          868         0       1   \n",
        "868          869         0       3   \n",
        "869          870         1       3   \n",
        "870          871         0       3   \n",
        "871          872         1       1   \n",
        "872          873         0       1   \n",
        "873          874         0       3   \n",
        "874          875         1       2   \n",
        "875          876         1       3   \n",
        "876          877         0       3   \n",
        "877          878         0       3   \n",
        "878          879         0       3   \n",
        "879          880         1       1   \n",
        "880          881         1       2   \n",
        "881          882         0       3   \n",
        "882          883         0       3   \n",
        "883          884         0       2   \n",
        "884          885         0       3   \n",
        "885          886         0       3   \n",
        "886          887         0       2   \n",
        "887          888         1       1   \n",
        "888          889         0       3   \n",
        "889          890         1       1   \n",
        "890          891         0       3   \n",
        "\n",
        "                                                  Name     Sex  Age  SibSp  \\\n",
        "0                              Braund, Mr. Owen Harris    male   22      1   \n",
        "1    Cumings, Mrs. John Bradley (Florence Briggs Th...  female   38      1   \n",
        "2                               Heikkinen, Miss. Laina  female   26      0   \n",
        "3         Futrelle, Mrs. Jacques Heath (Lily May Peel)  female   35      1   \n",
        "4                             Allen, Mr. William Henry    male   35      0   \n",
        "5                                     Moran, Mr. James    male  NaN      0   \n",
        "6                              McCarthy, Mr. Timothy J    male   54      0   \n",
        "7                       Palsson, Master. Gosta Leonard    male    2      3   \n",
        "8    Johnson, Mrs. Oscar W (Elisabeth Vilhelmina Berg)  female   27      0   \n",
        "9                  Nasser, Mrs. Nicholas (Adele Achem)  female   14      1   \n",
        "10                     Sandstrom, Miss. Marguerite Rut  female    4      1   \n",
        "11                            Bonnell, Miss. Elizabeth  female   58      0   \n",
        "12                      Saundercock, Mr. William Henry    male   20      0   \n",
        "13                         Andersson, Mr. Anders Johan    male   39      1   \n",
        "14                Vestrom, Miss. Hulda Amanda Adolfina  female   14      0   \n",
        "15                    Hewlett, Mrs. (Mary D Kingcome)   female   55      0   \n",
        "16                                Rice, Master. Eugene    male    2      4   \n",
        "17                        Williams, Mr. Charles Eugene    male  NaN      0   \n",
        "18   Vander Planke, Mrs. Julius (Emelia Maria Vande...  female   31      1   \n",
        "19                             Masselmani, Mrs. Fatima  female  NaN      0   \n",
        "20                                Fynney, Mr. Joseph J    male   35      0   \n",
        "21                               Beesley, Mr. Lawrence    male   34      0   \n",
        "22                         McGowan, Miss. Anna \"Annie\"  female   15      0   \n",
        "23                        Sloper, Mr. William Thompson    male   28      0   \n",
        "24                       Palsson, Miss. Torborg Danira  female    8      3   \n",
        "25   Asplund, Mrs. Carl Oscar (Selma Augusta Emilia...  female   38      1   \n",
        "26                             Emir, Mr. Farred Chehab    male  NaN      0   \n",
        "27                      Fortune, Mr. Charles Alexander    male   19      3   \n",
        "28                       O'Dwyer, Miss. Ellen \"Nellie\"  female  NaN      0   \n",
        "29                                 Todoroff, Mr. Lalio    male  NaN      0   \n",
        "..                                                 ...     ...  ...    ...   \n",
        "861                        Giles, Mr. Frederick Edward    male   21      1   \n",
        "862  Swift, Mrs. Frederick Joel (Margaret Welles Ba...  female   48      0   \n",
        "863                  Sage, Miss. Dorothy Edith \"Dolly\"  female  NaN      8   \n",
        "864                             Gill, Mr. John William    male   24      0   \n",
        "865                           Bystrom, Mrs. (Karolina)  female   42      0   \n",
        "866                       Duran y More, Miss. Asuncion  female   27      1   \n",
        "867               Roebling, Mr. Washington Augustus II    male   31      0   \n",
        "868                        van Melkebeke, Mr. Philemon    male  NaN      0   \n",
        "869                    Johnson, Master. Harold Theodor    male    4      1   \n",
        "870                                  Balkic, Mr. Cerin    male   26      0   \n",
        "871   Beckwith, Mrs. Richard Leonard (Sallie Monypeny)  female   47      1   \n",
        "872                           Carlsson, Mr. Frans Olof    male   33      0   \n",
        "873                        Vander Cruyssen, Mr. Victor    male   47      0   \n",
        "874              Abelson, Mrs. Samuel (Hannah Wizosky)  female   28      1   \n",
        "875                   Najib, Miss. Adele Kiamie \"Jane\"  female   15      0   \n",
        "876                      Gustafsson, Mr. Alfred Ossian    male   20      0   \n",
        "877                               Petroff, Mr. Nedelio    male   19      0   \n",
        "878                                 Laleff, Mr. Kristo    male  NaN      0   \n",
        "879      Potter, Mrs. Thomas Jr (Lily Alexenia Wilson)  female   56      0   \n",
        "880       Shelley, Mrs. William (Imanita Parrish Hall)  female   25      0   \n",
        "881                                 Markun, Mr. Johann    male   33      0   \n",
        "882                       Dahlberg, Miss. Gerda Ulrika  female   22      0   \n",
        "883                      Banfield, Mr. Frederick James    male   28      0   \n",
        "884                             Sutehall, Mr. Henry Jr    male   25      0   \n",
        "885               Rice, Mrs. William (Margaret Norton)  female   39      0   \n",
        "886                              Montvila, Rev. Juozas    male   27      0   \n",
        "887                       Graham, Miss. Margaret Edith  female   19      0   \n",
        "888           Johnston, Miss. Catherine Helen \"Carrie\"  female  NaN      1   \n",
        "889                              Behr, Mr. Karl Howell    male   26      0   \n",
        "890                                Dooley, Mr. Patrick    male   32      0   \n",
        "\n",
        "     Parch            Ticket      Fare        Cabin Embarked  \n",
        "0        0         A/5 21171    7.2500          NaN        S  \n",
        "1        0          PC 17599   71.2833          C85        C  \n",
        "2        0  STON/O2. 3101282    7.9250          NaN        S  \n",
        "3        0            113803   53.1000         C123        S  \n",
        "4        0            373450    8.0500          NaN        S  \n",
        "5        0            330877    8.4583          NaN        Q  \n",
        "6        0             17463   51.8625          E46        S  \n",
        "7        1            349909   21.0750          NaN        S  \n",
        "8        2            347742   11.1333          NaN        S  \n",
        "9        0            237736   30.0708          NaN        C  \n",
        "10       1           PP 9549   16.7000           G6        S  \n",
        "11       0            113783   26.5500         C103        S  \n",
        "12       0         A/5. 2151    8.0500          NaN        S  \n",
        "13       5            347082   31.2750          NaN        S  \n",
        "14       0            350406    7.8542          NaN        S  \n",
        "15       0            248706   16.0000          NaN        S  \n",
        "16       1            382652   29.1250          NaN        Q  \n",
        "17       0            244373   13.0000          NaN        S  \n",
        "18       0            345763   18.0000          NaN        S  \n",
        "19       0              2649    7.2250          NaN        C  \n",
        "20       0            239865   26.0000          NaN        S  \n",
        "21       0            248698   13.0000          D56        S  \n",
        "22       0            330923    8.0292          NaN        Q  \n",
        "23       0            113788   35.5000           A6        S  \n",
        "24       1            349909   21.0750          NaN        S  \n",
        "25       5            347077   31.3875          NaN        S  \n",
        "26       0              2631    7.2250          NaN        C  \n",
        "27       2             19950  263.0000  C23 C25 C27        S  \n",
        "28       0            330959    7.8792          NaN        Q  \n",
        "29       0            349216    7.8958          NaN        S  \n",
        "..     ...               ...       ...          ...      ...  \n",
        "861      0             28134   11.5000          NaN        S  \n",
        "862      0             17466   25.9292          D17        S  \n",
        "863      2          CA. 2343   69.5500          NaN        S  \n",
        "864      0            233866   13.0000          NaN        S  \n",
        "865      0            236852   13.0000          NaN        S  \n",
        "866      0     SC/PARIS 2149   13.8583          NaN        C  \n",
        "867      0          PC 17590   50.4958          A24        S  \n",
        "868      0            345777    9.5000          NaN        S  \n",
        "869      1            347742   11.1333          NaN        S  \n",
        "870      0            349248    7.8958          NaN        S  \n",
        "871      1             11751   52.5542          D35        S  \n",
        "872      0               695    5.0000  B51 B53 B55        S  \n",
        "873      0            345765    9.0000          NaN        S  \n",
        "874      0         P/PP 3381   24.0000          NaN        C  \n",
        "875      0              2667    7.2250          NaN        C  \n",
        "876      0              7534    9.8458          NaN        S  \n",
        "877      0            349212    7.8958          NaN        S  \n",
        "878      0            349217    7.8958          NaN        S  \n",
        "879      1             11767   83.1583          C50        C  \n",
        "880      1            230433   26.0000          NaN        S  \n",
        "881      0            349257    7.8958          NaN        S  \n",
        "882      0              7552   10.5167          NaN        S  \n",
        "883      0  C.A./SOTON 34068   10.5000          NaN        S  \n",
        "884      0   SOTON/OQ 392076    7.0500          NaN        S  \n",
        "885      5            382652   29.1250          NaN        Q  \n",
        "886      0            211536   13.0000          NaN        S  \n",
        "887      0            112053   30.0000          B42        S  \n",
        "888      2        W./C. 6607   23.4500          NaN        S  \n",
        "889      0            111369   30.0000         C148        C  \n",
        "890      0            370376    7.7500          NaN        Q  \n",
        "\n",
        "[891 rows x 12 columns]\n"
       ]
      }
     ],
     "prompt_number": 239
    },
    {
     "cell_type": "code",
     "collapsed": false,
     "input": [
      "data['Embarked'].isnull().sum()"
     ],
     "language": "python",
     "metadata": {},
     "outputs": [
      {
       "metadata": {},
       "output_type": "pyout",
       "prompt_number": 8,
       "text": [
        "2"
       ]
      }
     ],
     "prompt_number": 8
    },
    {
     "cell_type": "code",
     "collapsed": false,
     "input": [
      "data['Name']"
     ],
     "language": "python",
     "metadata": {},
     "outputs": [
      {
       "metadata": {},
       "output_type": "pyout",
       "prompt_number": 9,
       "text": [
        "0                               Braund, Mr. Owen Harris\n",
        "1     Cumings, Mrs. John Bradley (Florence Briggs Th...\n",
        "2                                Heikkinen, Miss. Laina\n",
        "3          Futrelle, Mrs. Jacques Heath (Lily May Peel)\n",
        "4                              Allen, Mr. William Henry\n",
        "5                                      Moran, Mr. James\n",
        "6                               McCarthy, Mr. Timothy J\n",
        "7                        Palsson, Master. Gosta Leonard\n",
        "8     Johnson, Mrs. Oscar W (Elisabeth Vilhelmina Berg)\n",
        "9                   Nasser, Mrs. Nicholas (Adele Achem)\n",
        "10                      Sandstrom, Miss. Marguerite Rut\n",
        "11                             Bonnell, Miss. Elizabeth\n",
        "12                       Saundercock, Mr. William Henry\n",
        "13                          Andersson, Mr. Anders Johan\n",
        "14                 Vestrom, Miss. Hulda Amanda Adolfina\n",
        "...\n",
        "876                    Gustafsson, Mr. Alfred Ossian\n",
        "877                             Petroff, Mr. Nedelio\n",
        "878                               Laleff, Mr. Kristo\n",
        "879    Potter, Mrs. Thomas Jr (Lily Alexenia Wilson)\n",
        "880     Shelley, Mrs. William (Imanita Parrish Hall)\n",
        "881                               Markun, Mr. Johann\n",
        "882                     Dahlberg, Miss. Gerda Ulrika\n",
        "883                    Banfield, Mr. Frederick James\n",
        "884                           Sutehall, Mr. Henry Jr\n",
        "885             Rice, Mrs. William (Margaret Norton)\n",
        "886                            Montvila, Rev. Juozas\n",
        "887                     Graham, Miss. Margaret Edith\n",
        "888         Johnston, Miss. Catherine Helen \"Carrie\"\n",
        "889                            Behr, Mr. Karl Howell\n",
        "890                              Dooley, Mr. Patrick\n",
        "Name: Name, Length: 891, dtype: object"
       ]
      }
     ],
     "prompt_number": 9
    },
    {
     "cell_type": "code",
     "collapsed": false,
     "input": [
      "data['Name'].nunique()"
     ],
     "language": "python",
     "metadata": {},
     "outputs": [
      {
       "metadata": {},
       "output_type": "pyout",
       "prompt_number": 241,
       "text": [
        "891"
       ]
      }
     ],
     "prompt_number": 241
    },
    {
     "cell_type": "code",
     "collapsed": false,
     "input": [
      "title = data['Name'].str.findall( (' .{2,6}\\.'))\n",
      "title"
     ],
     "language": "python",
     "metadata": {},
     "outputs": [
      {
       "metadata": {},
       "output_type": "pyout",
       "prompt_number": 242,
       "text": [
        "0         [ Mr.]\n",
        "1        [ Mrs.]\n",
        "2       [ Miss.]\n",
        "3        [ Mrs.]\n",
        "4         [ Mr.]\n",
        "5         [ Mr.]\n",
        "6         [ Mr.]\n",
        "7     [ Master.]\n",
        "8        [ Mrs.]\n",
        "9        [ Mrs.]\n",
        "10      [ Miss.]\n",
        "11      [ Miss.]\n",
        "12        [ Mr.]\n",
        "13        [ Mr.]\n",
        "14      [ Miss.]\n",
        "...\n",
        "876      [ Mr.]\n",
        "877      [ Mr.]\n",
        "878      [ Mr.]\n",
        "879     [ Mrs.]\n",
        "880     [ Mrs.]\n",
        "881      [ Mr.]\n",
        "882    [ Miss.]\n",
        "883      [ Mr.]\n",
        "884      [ Mr.]\n",
        "885     [ Mrs.]\n",
        "886     [ Rev.]\n",
        "887    [ Miss.]\n",
        "888    [ Miss.]\n",
        "889      [ Mr.]\n",
        "890      [ Mr.]\n",
        "Name: Name, Length: 891, dtype: object"
       ]
      }
     ],
     "prompt_number": 242
    },
    {
     "cell_type": "code",
     "collapsed": false,
     "input": [
      "print sum(title.apply(len)>1)\n",
      "#so there is no name parsed into two elements\n",
      "#print (title.loc[0])\n",
      "#print type(title.loc[0])\n",
      "title_str = title.apply(str)\n",
      "print title_str.nunique()\n",
      "#title_str.unique()\n",
      "title_str.value_counts()"
     ],
     "language": "python",
     "metadata": {},
     "outputs": [
      {
       "output_type": "stream",
       "stream": "stdout",
       "text": [
        "0\n",
        "16\n"
       ]
      },
      {
       "metadata": {},
       "output_type": "pyout",
       "prompt_number": 258,
       "text": [
        "[' Mr.']        517\n",
        "[' Miss.']      182\n",
        "[' Mrs.']       125\n",
        "[' Master.']     40\n",
        "[' Dr.']          7\n",
        "[' Rev.']         6\n",
        "[' Major.']       2\n",
        "[' Mlle.']        2\n",
        "[' Col.']         2\n",
        "[]                2\n",
        "[' Mme.']         1\n",
        "[' Don.']         1\n",
        "[' Ms.']          1\n",
        "[' Sir.']         1\n",
        "[' Lady.']        1\n",
        "[' Capt.']        1\n",
        "dtype: int64"
       ]
      }
     ],
     "prompt_number": 258
    },
    {
     "cell_type": "code",
     "collapsed": false,
     "input": [
      "title_str0 = title_str.apply(lambda x: x[3:-2])\n",
      "#when use slicing,for the elements that donot have enough length, it will to Empty elements!!\n",
      "#see below\n",
      "print title_str0.nunique()\n",
      "print title_str0.value_counts()\n",
      "print 'the empty element is: ', title_str0.value_counts().index[9]\n",
      "#the above will show nothing but PRINT, you cannot tell; if you put it as the last evaluation element, you will see it\n",
      "#note the differences of outputing here in ipython notebook!\n",
      "# the last statement will generate the 'Out', others will NOT!!!\n",
      "title_str0.value_counts().index[9]"
     ],
     "language": "python",
     "metadata": {},
     "outputs": [
      {
       "output_type": "stream",
       "stream": "stdout",
       "text": [
        "16\n",
        "Mr.        517\n",
        "Miss.      182\n",
        "Mrs.       125\n",
        "Master.     40\n",
        "Dr.          7\n",
        "Rev.         6\n",
        "Mlle.        2\n",
        "Major.       2\n",
        "Col.         2\n",
        "             2\n",
        "Mme.         1\n",
        "Ms.          1\n",
        "Don.         1\n",
        "Capt.        1\n",
        "Sir.         1\n",
        "Lady.        1\n",
        "dtype: int64\n",
        "the empty element is:  \n"
       ]
      },
      {
       "metadata": {},
       "output_type": "pyout",
       "prompt_number": 273,
       "text": [
        "''"
       ]
      }
     ],
     "prompt_number": 273
    },
    {
     "cell_type": "code",
     "collapsed": false,
     "input": [
      "#replace the target titles\n",
      "#for all the elements other than the  empty, assign them into the four top categories in the title_str0\n",
      "# Master is replaced by Mister(Mr.) in 19th century, titanic happned in 1912, so master. meaning boys and young men\n",
      "# major -> Mr.\n",
      "# Mlle. -> Miss.\n",
      "# Ms    -> Mrs.\n",
      "# Mme. Madame-> Mrs.\n",
      "# Dr. -> Mr.\n",
      "# Rev. -> Mr.\n",
      "# Col. -> Mr.\n",
      "# Don. -> Mr.\n",
      "# Capt. -> Mr.\n",
      "# Sir. -> Mr.\n",
      "# Lady. -> Mrs.\n",
      "#check Don.:::\n",
      "name = data['Name']\n",
      "title_str0[title_str0 == 'Don.'].index\n",
      "name.loc[title_str0[title_str0 == 'Don.'].index]"
     ],
     "language": "python",
     "metadata": {},
     "outputs": [
      {
       "metadata": {},
       "output_type": "pyout",
       "prompt_number": 279,
       "text": [
        "30    Uruchurtu, Don. Manuel E\n",
        "Name: Name, dtype: object"
       ]
      }
     ],
     "prompt_number": 279
    },
    {
     "cell_type": "code",
     "collapsed": false,
     "input": [
      "mr_index = title_str0.apply(lambda x: x in ['Major.','Dr.','Rev.','Col.','Don.','Capt.','Sir.'])\n",
      "mrs_index = title_str0.apply(lambda x: x in ['Ms.','Mme.','Lady.'])\n",
      "miss_index = title_str0.apply(lambda x: x in ['Mlle.'])\n",
      "title_str0[mr_index] = 'Mr.'\n",
      "title_str0[mrs_index] = 'Mrs.'\n",
      "title_str0[miss_index] = 'Miss.'\n",
      "title_str0.value_counts()"
     ],
     "language": "python",
     "metadata": {},
     "outputs": [
      {
       "metadata": {},
       "output_type": "pyout",
       "prompt_number": 281,
       "text": [
        "Mr.        537\n",
        "Miss.      184\n",
        "Mrs.       128\n",
        "Master.     40\n",
        "             2\n",
        "dtype: int64"
       ]
      }
     ],
     "prompt_number": 281
    },
    {
     "cell_type": "code",
     "collapsed": false,
     "input": [
      "print name[title_str0[title_str0 ==''].index]\n",
      "#Countess. -> Mrs.\n",
      "title_str0.loc[759] = \"Mrs.\"\n",
      "title_str0.loc[822] = \"Mr.\"\n",
      "title_str0.value_counts()"
     ],
     "language": "python",
     "metadata": {},
     "outputs": [
      {
       "output_type": "stream",
       "stream": "stdout",
       "text": [
        "Series([], name: Name, dtype: object)\n"
       ]
      },
      {
       "metadata": {},
       "output_type": "pyout",
       "prompt_number": 285,
       "text": [
        "Mr.        538\n",
        "Miss.      184\n",
        "Mrs.       129\n",
        "Master.     40\n",
        "dtype: int64"
       ]
      }
     ],
     "prompt_number": 285
    },
    {
     "cell_type": "code",
     "collapsed": false,
     "input": [
      "data['title'] = title_str0\n",
      "data"
     ],
     "language": "python",
     "metadata": {},
     "outputs": [
      {
       "html": [
        "<div style=\"max-height:1000px;max-width:1500px;overflow:auto;\">\n",
        "<table border=\"1\" class=\"dataframe\">\n",
        "  <thead>\n",
        "    <tr style=\"text-align: right;\">\n",
        "      <th></th>\n",
        "      <th>PassengerId</th>\n",
        "      <th>Survived</th>\n",
        "      <th>Pclass</th>\n",
        "      <th>Name</th>\n",
        "      <th>Sex</th>\n",
        "      <th>Age</th>\n",
        "      <th>SibSp</th>\n",
        "      <th>Parch</th>\n",
        "      <th>Ticket</th>\n",
        "      <th>Fare</th>\n",
        "      <th>Cabin</th>\n",
        "      <th>Embarked</th>\n",
        "      <th>title</th>\n",
        "    </tr>\n",
        "  </thead>\n",
        "  <tbody>\n",
        "    <tr>\n",
        "      <th>0  </th>\n",
        "      <td>   1</td>\n",
        "      <td> 0</td>\n",
        "      <td> 3</td>\n",
        "      <td>                           Braund, Mr. Owen Harris</td>\n",
        "      <td>   male</td>\n",
        "      <td> 22</td>\n",
        "      <td> 1</td>\n",
        "      <td> 0</td>\n",
        "      <td>        A/5 21171</td>\n",
        "      <td>   7.2500</td>\n",
        "      <td>         NaN</td>\n",
        "      <td> S</td>\n",
        "      <td>     Mr.</td>\n",
        "    </tr>\n",
        "    <tr>\n",
        "      <th>1  </th>\n",
        "      <td>   2</td>\n",
        "      <td> 1</td>\n",
        "      <td> 1</td>\n",
        "      <td> Cumings, Mrs. John Bradley (Florence Briggs Th...</td>\n",
        "      <td> female</td>\n",
        "      <td> 38</td>\n",
        "      <td> 1</td>\n",
        "      <td> 0</td>\n",
        "      <td>         PC 17599</td>\n",
        "      <td>  71.2833</td>\n",
        "      <td>         C85</td>\n",
        "      <td> C</td>\n",
        "      <td>    Mrs.</td>\n",
        "    </tr>\n",
        "    <tr>\n",
        "      <th>2  </th>\n",
        "      <td>   3</td>\n",
        "      <td> 1</td>\n",
        "      <td> 3</td>\n",
        "      <td>                            Heikkinen, Miss. Laina</td>\n",
        "      <td> female</td>\n",
        "      <td> 26</td>\n",
        "      <td> 0</td>\n",
        "      <td> 0</td>\n",
        "      <td> STON/O2. 3101282</td>\n",
        "      <td>   7.9250</td>\n",
        "      <td>         NaN</td>\n",
        "      <td> S</td>\n",
        "      <td>   Miss.</td>\n",
        "    </tr>\n",
        "    <tr>\n",
        "      <th>3  </th>\n",
        "      <td>   4</td>\n",
        "      <td> 1</td>\n",
        "      <td> 1</td>\n",
        "      <td>      Futrelle, Mrs. Jacques Heath (Lily May Peel)</td>\n",
        "      <td> female</td>\n",
        "      <td> 35</td>\n",
        "      <td> 1</td>\n",
        "      <td> 0</td>\n",
        "      <td>           113803</td>\n",
        "      <td>  53.1000</td>\n",
        "      <td>        C123</td>\n",
        "      <td> S</td>\n",
        "      <td>    Mrs.</td>\n",
        "    </tr>\n",
        "    <tr>\n",
        "      <th>4  </th>\n",
        "      <td>   5</td>\n",
        "      <td> 0</td>\n",
        "      <td> 3</td>\n",
        "      <td>                          Allen, Mr. William Henry</td>\n",
        "      <td>   male</td>\n",
        "      <td> 35</td>\n",
        "      <td> 0</td>\n",
        "      <td> 0</td>\n",
        "      <td>           373450</td>\n",
        "      <td>   8.0500</td>\n",
        "      <td>         NaN</td>\n",
        "      <td> S</td>\n",
        "      <td>     Mr.</td>\n",
        "    </tr>\n",
        "    <tr>\n",
        "      <th>5  </th>\n",
        "      <td>   6</td>\n",
        "      <td> 0</td>\n",
        "      <td> 3</td>\n",
        "      <td>                                  Moran, Mr. James</td>\n",
        "      <td>   male</td>\n",
        "      <td>NaN</td>\n",
        "      <td> 0</td>\n",
        "      <td> 0</td>\n",
        "      <td>           330877</td>\n",
        "      <td>   8.4583</td>\n",
        "      <td>         NaN</td>\n",
        "      <td> Q</td>\n",
        "      <td>     Mr.</td>\n",
        "    </tr>\n",
        "    <tr>\n",
        "      <th>6  </th>\n",
        "      <td>   7</td>\n",
        "      <td> 0</td>\n",
        "      <td> 1</td>\n",
        "      <td>                           McCarthy, Mr. Timothy J</td>\n",
        "      <td>   male</td>\n",
        "      <td> 54</td>\n",
        "      <td> 0</td>\n",
        "      <td> 0</td>\n",
        "      <td>            17463</td>\n",
        "      <td>  51.8625</td>\n",
        "      <td>         E46</td>\n",
        "      <td> S</td>\n",
        "      <td>     Mr.</td>\n",
        "    </tr>\n",
        "    <tr>\n",
        "      <th>7  </th>\n",
        "      <td>   8</td>\n",
        "      <td> 0</td>\n",
        "      <td> 3</td>\n",
        "      <td>                    Palsson, Master. Gosta Leonard</td>\n",
        "      <td>   male</td>\n",
        "      <td>  2</td>\n",
        "      <td> 3</td>\n",
        "      <td> 1</td>\n",
        "      <td>           349909</td>\n",
        "      <td>  21.0750</td>\n",
        "      <td>         NaN</td>\n",
        "      <td> S</td>\n",
        "      <td> Master.</td>\n",
        "    </tr>\n",
        "    <tr>\n",
        "      <th>8  </th>\n",
        "      <td>   9</td>\n",
        "      <td> 1</td>\n",
        "      <td> 3</td>\n",
        "      <td> Johnson, Mrs. Oscar W (Elisabeth Vilhelmina Berg)</td>\n",
        "      <td> female</td>\n",
        "      <td> 27</td>\n",
        "      <td> 0</td>\n",
        "      <td> 2</td>\n",
        "      <td>           347742</td>\n",
        "      <td>  11.1333</td>\n",
        "      <td>         NaN</td>\n",
        "      <td> S</td>\n",
        "      <td>    Mrs.</td>\n",
        "    </tr>\n",
        "    <tr>\n",
        "      <th>9  </th>\n",
        "      <td>  10</td>\n",
        "      <td> 1</td>\n",
        "      <td> 2</td>\n",
        "      <td>               Nasser, Mrs. Nicholas (Adele Achem)</td>\n",
        "      <td> female</td>\n",
        "      <td> 14</td>\n",
        "      <td> 1</td>\n",
        "      <td> 0</td>\n",
        "      <td>           237736</td>\n",
        "      <td>  30.0708</td>\n",
        "      <td>         NaN</td>\n",
        "      <td> C</td>\n",
        "      <td>    Mrs.</td>\n",
        "    </tr>\n",
        "    <tr>\n",
        "      <th>10 </th>\n",
        "      <td>  11</td>\n",
        "      <td> 1</td>\n",
        "      <td> 3</td>\n",
        "      <td>                   Sandstrom, Miss. Marguerite Rut</td>\n",
        "      <td> female</td>\n",
        "      <td>  4</td>\n",
        "      <td> 1</td>\n",
        "      <td> 1</td>\n",
        "      <td>          PP 9549</td>\n",
        "      <td>  16.7000</td>\n",
        "      <td>          G6</td>\n",
        "      <td> S</td>\n",
        "      <td>   Miss.</td>\n",
        "    </tr>\n",
        "    <tr>\n",
        "      <th>11 </th>\n",
        "      <td>  12</td>\n",
        "      <td> 1</td>\n",
        "      <td> 1</td>\n",
        "      <td>                          Bonnell, Miss. Elizabeth</td>\n",
        "      <td> female</td>\n",
        "      <td> 58</td>\n",
        "      <td> 0</td>\n",
        "      <td> 0</td>\n",
        "      <td>           113783</td>\n",
        "      <td>  26.5500</td>\n",
        "      <td>        C103</td>\n",
        "      <td> S</td>\n",
        "      <td>   Miss.</td>\n",
        "    </tr>\n",
        "    <tr>\n",
        "      <th>12 </th>\n",
        "      <td>  13</td>\n",
        "      <td> 0</td>\n",
        "      <td> 3</td>\n",
        "      <td>                    Saundercock, Mr. William Henry</td>\n",
        "      <td>   male</td>\n",
        "      <td> 20</td>\n",
        "      <td> 0</td>\n",
        "      <td> 0</td>\n",
        "      <td>        A/5. 2151</td>\n",
        "      <td>   8.0500</td>\n",
        "      <td>         NaN</td>\n",
        "      <td> S</td>\n",
        "      <td>     Mr.</td>\n",
        "    </tr>\n",
        "    <tr>\n",
        "      <th>13 </th>\n",
        "      <td>  14</td>\n",
        "      <td> 0</td>\n",
        "      <td> 3</td>\n",
        "      <td>                       Andersson, Mr. Anders Johan</td>\n",
        "      <td>   male</td>\n",
        "      <td> 39</td>\n",
        "      <td> 1</td>\n",
        "      <td> 5</td>\n",
        "      <td>           347082</td>\n",
        "      <td>  31.2750</td>\n",
        "      <td>         NaN</td>\n",
        "      <td> S</td>\n",
        "      <td>     Mr.</td>\n",
        "    </tr>\n",
        "    <tr>\n",
        "      <th>14 </th>\n",
        "      <td>  15</td>\n",
        "      <td> 0</td>\n",
        "      <td> 3</td>\n",
        "      <td>              Vestrom, Miss. Hulda Amanda Adolfina</td>\n",
        "      <td> female</td>\n",
        "      <td> 14</td>\n",
        "      <td> 0</td>\n",
        "      <td> 0</td>\n",
        "      <td>           350406</td>\n",
        "      <td>   7.8542</td>\n",
        "      <td>         NaN</td>\n",
        "      <td> S</td>\n",
        "      <td>   Miss.</td>\n",
        "    </tr>\n",
        "    <tr>\n",
        "      <th>15 </th>\n",
        "      <td>  16</td>\n",
        "      <td> 1</td>\n",
        "      <td> 2</td>\n",
        "      <td>                  Hewlett, Mrs. (Mary D Kingcome) </td>\n",
        "      <td> female</td>\n",
        "      <td> 55</td>\n",
        "      <td> 0</td>\n",
        "      <td> 0</td>\n",
        "      <td>           248706</td>\n",
        "      <td>  16.0000</td>\n",
        "      <td>         NaN</td>\n",
        "      <td> S</td>\n",
        "      <td>    Mrs.</td>\n",
        "    </tr>\n",
        "    <tr>\n",
        "      <th>16 </th>\n",
        "      <td>  17</td>\n",
        "      <td> 0</td>\n",
        "      <td> 3</td>\n",
        "      <td>                              Rice, Master. Eugene</td>\n",
        "      <td>   male</td>\n",
        "      <td>  2</td>\n",
        "      <td> 4</td>\n",
        "      <td> 1</td>\n",
        "      <td>           382652</td>\n",
        "      <td>  29.1250</td>\n",
        "      <td>         NaN</td>\n",
        "      <td> Q</td>\n",
        "      <td> Master.</td>\n",
        "    </tr>\n",
        "    <tr>\n",
        "      <th>17 </th>\n",
        "      <td>  18</td>\n",
        "      <td> 1</td>\n",
        "      <td> 2</td>\n",
        "      <td>                      Williams, Mr. Charles Eugene</td>\n",
        "      <td>   male</td>\n",
        "      <td>NaN</td>\n",
        "      <td> 0</td>\n",
        "      <td> 0</td>\n",
        "      <td>           244373</td>\n",
        "      <td>  13.0000</td>\n",
        "      <td>         NaN</td>\n",
        "      <td> S</td>\n",
        "      <td>     Mr.</td>\n",
        "    </tr>\n",
        "    <tr>\n",
        "      <th>18 </th>\n",
        "      <td>  19</td>\n",
        "      <td> 0</td>\n",
        "      <td> 3</td>\n",
        "      <td> Vander Planke, Mrs. Julius (Emelia Maria Vande...</td>\n",
        "      <td> female</td>\n",
        "      <td> 31</td>\n",
        "      <td> 1</td>\n",
        "      <td> 0</td>\n",
        "      <td>           345763</td>\n",
        "      <td>  18.0000</td>\n",
        "      <td>         NaN</td>\n",
        "      <td> S</td>\n",
        "      <td>    Mrs.</td>\n",
        "    </tr>\n",
        "    <tr>\n",
        "      <th>19 </th>\n",
        "      <td>  20</td>\n",
        "      <td> 1</td>\n",
        "      <td> 3</td>\n",
        "      <td>                           Masselmani, Mrs. Fatima</td>\n",
        "      <td> female</td>\n",
        "      <td>NaN</td>\n",
        "      <td> 0</td>\n",
        "      <td> 0</td>\n",
        "      <td>             2649</td>\n",
        "      <td>   7.2250</td>\n",
        "      <td>         NaN</td>\n",
        "      <td> C</td>\n",
        "      <td>    Mrs.</td>\n",
        "    </tr>\n",
        "    <tr>\n",
        "      <th>20 </th>\n",
        "      <td>  21</td>\n",
        "      <td> 0</td>\n",
        "      <td> 2</td>\n",
        "      <td>                              Fynney, Mr. Joseph J</td>\n",
        "      <td>   male</td>\n",
        "      <td> 35</td>\n",
        "      <td> 0</td>\n",
        "      <td> 0</td>\n",
        "      <td>           239865</td>\n",
        "      <td>  26.0000</td>\n",
        "      <td>         NaN</td>\n",
        "      <td> S</td>\n",
        "      <td>     Mr.</td>\n",
        "    </tr>\n",
        "    <tr>\n",
        "      <th>21 </th>\n",
        "      <td>  22</td>\n",
        "      <td> 1</td>\n",
        "      <td> 2</td>\n",
        "      <td>                             Beesley, Mr. Lawrence</td>\n",
        "      <td>   male</td>\n",
        "      <td> 34</td>\n",
        "      <td> 0</td>\n",
        "      <td> 0</td>\n",
        "      <td>           248698</td>\n",
        "      <td>  13.0000</td>\n",
        "      <td>         D56</td>\n",
        "      <td> S</td>\n",
        "      <td>     Mr.</td>\n",
        "    </tr>\n",
        "    <tr>\n",
        "      <th>22 </th>\n",
        "      <td>  23</td>\n",
        "      <td> 1</td>\n",
        "      <td> 3</td>\n",
        "      <td>                       McGowan, Miss. Anna \"Annie\"</td>\n",
        "      <td> female</td>\n",
        "      <td> 15</td>\n",
        "      <td> 0</td>\n",
        "      <td> 0</td>\n",
        "      <td>           330923</td>\n",
        "      <td>   8.0292</td>\n",
        "      <td>         NaN</td>\n",
        "      <td> Q</td>\n",
        "      <td>   Miss.</td>\n",
        "    </tr>\n",
        "    <tr>\n",
        "      <th>23 </th>\n",
        "      <td>  24</td>\n",
        "      <td> 1</td>\n",
        "      <td> 1</td>\n",
        "      <td>                      Sloper, Mr. William Thompson</td>\n",
        "      <td>   male</td>\n",
        "      <td> 28</td>\n",
        "      <td> 0</td>\n",
        "      <td> 0</td>\n",
        "      <td>           113788</td>\n",
        "      <td>  35.5000</td>\n",
        "      <td>          A6</td>\n",
        "      <td> S</td>\n",
        "      <td>     Mr.</td>\n",
        "    </tr>\n",
        "    <tr>\n",
        "      <th>24 </th>\n",
        "      <td>  25</td>\n",
        "      <td> 0</td>\n",
        "      <td> 3</td>\n",
        "      <td>                     Palsson, Miss. Torborg Danira</td>\n",
        "      <td> female</td>\n",
        "      <td>  8</td>\n",
        "      <td> 3</td>\n",
        "      <td> 1</td>\n",
        "      <td>           349909</td>\n",
        "      <td>  21.0750</td>\n",
        "      <td>         NaN</td>\n",
        "      <td> S</td>\n",
        "      <td>   Miss.</td>\n",
        "    </tr>\n",
        "    <tr>\n",
        "      <th>25 </th>\n",
        "      <td>  26</td>\n",
        "      <td> 1</td>\n",
        "      <td> 3</td>\n",
        "      <td> Asplund, Mrs. Carl Oscar (Selma Augusta Emilia...</td>\n",
        "      <td> female</td>\n",
        "      <td> 38</td>\n",
        "      <td> 1</td>\n",
        "      <td> 5</td>\n",
        "      <td>           347077</td>\n",
        "      <td>  31.3875</td>\n",
        "      <td>         NaN</td>\n",
        "      <td> S</td>\n",
        "      <td>    Mrs.</td>\n",
        "    </tr>\n",
        "    <tr>\n",
        "      <th>26 </th>\n",
        "      <td>  27</td>\n",
        "      <td> 0</td>\n",
        "      <td> 3</td>\n",
        "      <td>                           Emir, Mr. Farred Chehab</td>\n",
        "      <td>   male</td>\n",
        "      <td>NaN</td>\n",
        "      <td> 0</td>\n",
        "      <td> 0</td>\n",
        "      <td>             2631</td>\n",
        "      <td>   7.2250</td>\n",
        "      <td>         NaN</td>\n",
        "      <td> C</td>\n",
        "      <td>     Mr.</td>\n",
        "    </tr>\n",
        "    <tr>\n",
        "      <th>27 </th>\n",
        "      <td>  28</td>\n",
        "      <td> 0</td>\n",
        "      <td> 1</td>\n",
        "      <td>                    Fortune, Mr. Charles Alexander</td>\n",
        "      <td>   male</td>\n",
        "      <td> 19</td>\n",
        "      <td> 3</td>\n",
        "      <td> 2</td>\n",
        "      <td>            19950</td>\n",
        "      <td> 263.0000</td>\n",
        "      <td> C23 C25 C27</td>\n",
        "      <td> S</td>\n",
        "      <td>     Mr.</td>\n",
        "    </tr>\n",
        "    <tr>\n",
        "      <th>28 </th>\n",
        "      <td>  29</td>\n",
        "      <td> 1</td>\n",
        "      <td> 3</td>\n",
        "      <td>                     O'Dwyer, Miss. Ellen \"Nellie\"</td>\n",
        "      <td> female</td>\n",
        "      <td>NaN</td>\n",
        "      <td> 0</td>\n",
        "      <td> 0</td>\n",
        "      <td>           330959</td>\n",
        "      <td>   7.8792</td>\n",
        "      <td>         NaN</td>\n",
        "      <td> Q</td>\n",
        "      <td>   Miss.</td>\n",
        "    </tr>\n",
        "    <tr>\n",
        "      <th>29 </th>\n",
        "      <td>  30</td>\n",
        "      <td> 0</td>\n",
        "      <td> 3</td>\n",
        "      <td>                               Todoroff, Mr. Lalio</td>\n",
        "      <td>   male</td>\n",
        "      <td>NaN</td>\n",
        "      <td> 0</td>\n",
        "      <td> 0</td>\n",
        "      <td>           349216</td>\n",
        "      <td>   7.8958</td>\n",
        "      <td>         NaN</td>\n",
        "      <td> S</td>\n",
        "      <td>     Mr.</td>\n",
        "    </tr>\n",
        "    <tr>\n",
        "      <th>...</th>\n",
        "      <td>...</td>\n",
        "      <td>...</td>\n",
        "      <td>...</td>\n",
        "      <td>...</td>\n",
        "      <td>...</td>\n",
        "      <td>...</td>\n",
        "      <td>...</td>\n",
        "      <td>...</td>\n",
        "      <td>...</td>\n",
        "      <td>...</td>\n",
        "      <td>...</td>\n",
        "      <td>...</td>\n",
        "      <td>...</td>\n",
        "    </tr>\n",
        "    <tr>\n",
        "      <th>861</th>\n",
        "      <td> 862</td>\n",
        "      <td> 0</td>\n",
        "      <td> 2</td>\n",
        "      <td>                       Giles, Mr. Frederick Edward</td>\n",
        "      <td>   male</td>\n",
        "      <td> 21</td>\n",
        "      <td> 1</td>\n",
        "      <td> 0</td>\n",
        "      <td>            28134</td>\n",
        "      <td>  11.5000</td>\n",
        "      <td>         NaN</td>\n",
        "      <td> S</td>\n",
        "      <td>     Mr.</td>\n",
        "    </tr>\n",
        "    <tr>\n",
        "      <th>862</th>\n",
        "      <td> 863</td>\n",
        "      <td> 1</td>\n",
        "      <td> 1</td>\n",
        "      <td> Swift, Mrs. Frederick Joel (Margaret Welles Ba...</td>\n",
        "      <td> female</td>\n",
        "      <td> 48</td>\n",
        "      <td> 0</td>\n",
        "      <td> 0</td>\n",
        "      <td>            17466</td>\n",
        "      <td>  25.9292</td>\n",
        "      <td>         D17</td>\n",
        "      <td> S</td>\n",
        "      <td>    Mrs.</td>\n",
        "    </tr>\n",
        "    <tr>\n",
        "      <th>863</th>\n",
        "      <td> 864</td>\n",
        "      <td> 0</td>\n",
        "      <td> 3</td>\n",
        "      <td>                 Sage, Miss. Dorothy Edith \"Dolly\"</td>\n",
        "      <td> female</td>\n",
        "      <td>NaN</td>\n",
        "      <td> 8</td>\n",
        "      <td> 2</td>\n",
        "      <td>         CA. 2343</td>\n",
        "      <td>  69.5500</td>\n",
        "      <td>         NaN</td>\n",
        "      <td> S</td>\n",
        "      <td>   Miss.</td>\n",
        "    </tr>\n",
        "    <tr>\n",
        "      <th>864</th>\n",
        "      <td> 865</td>\n",
        "      <td> 0</td>\n",
        "      <td> 2</td>\n",
        "      <td>                            Gill, Mr. John William</td>\n",
        "      <td>   male</td>\n",
        "      <td> 24</td>\n",
        "      <td> 0</td>\n",
        "      <td> 0</td>\n",
        "      <td>           233866</td>\n",
        "      <td>  13.0000</td>\n",
        "      <td>         NaN</td>\n",
        "      <td> S</td>\n",
        "      <td>     Mr.</td>\n",
        "    </tr>\n",
        "    <tr>\n",
        "      <th>865</th>\n",
        "      <td> 866</td>\n",
        "      <td> 1</td>\n",
        "      <td> 2</td>\n",
        "      <td>                          Bystrom, Mrs. (Karolina)</td>\n",
        "      <td> female</td>\n",
        "      <td> 42</td>\n",
        "      <td> 0</td>\n",
        "      <td> 0</td>\n",
        "      <td>           236852</td>\n",
        "      <td>  13.0000</td>\n",
        "      <td>         NaN</td>\n",
        "      <td> S</td>\n",
        "      <td>    Mrs.</td>\n",
        "    </tr>\n",
        "    <tr>\n",
        "      <th>866</th>\n",
        "      <td> 867</td>\n",
        "      <td> 1</td>\n",
        "      <td> 2</td>\n",
        "      <td>                      Duran y More, Miss. Asuncion</td>\n",
        "      <td> female</td>\n",
        "      <td> 27</td>\n",
        "      <td> 1</td>\n",
        "      <td> 0</td>\n",
        "      <td>    SC/PARIS 2149</td>\n",
        "      <td>  13.8583</td>\n",
        "      <td>         NaN</td>\n",
        "      <td> C</td>\n",
        "      <td>   Miss.</td>\n",
        "    </tr>\n",
        "    <tr>\n",
        "      <th>867</th>\n",
        "      <td> 868</td>\n",
        "      <td> 0</td>\n",
        "      <td> 1</td>\n",
        "      <td>              Roebling, Mr. Washington Augustus II</td>\n",
        "      <td>   male</td>\n",
        "      <td> 31</td>\n",
        "      <td> 0</td>\n",
        "      <td> 0</td>\n",
        "      <td>         PC 17590</td>\n",
        "      <td>  50.4958</td>\n",
        "      <td>         A24</td>\n",
        "      <td> S</td>\n",
        "      <td>     Mr.</td>\n",
        "    </tr>\n",
        "    <tr>\n",
        "      <th>868</th>\n",
        "      <td> 869</td>\n",
        "      <td> 0</td>\n",
        "      <td> 3</td>\n",
        "      <td>                       van Melkebeke, Mr. Philemon</td>\n",
        "      <td>   male</td>\n",
        "      <td>NaN</td>\n",
        "      <td> 0</td>\n",
        "      <td> 0</td>\n",
        "      <td>           345777</td>\n",
        "      <td>   9.5000</td>\n",
        "      <td>         NaN</td>\n",
        "      <td> S</td>\n",
        "      <td>     Mr.</td>\n",
        "    </tr>\n",
        "    <tr>\n",
        "      <th>869</th>\n",
        "      <td> 870</td>\n",
        "      <td> 1</td>\n",
        "      <td> 3</td>\n",
        "      <td>                   Johnson, Master. Harold Theodor</td>\n",
        "      <td>   male</td>\n",
        "      <td>  4</td>\n",
        "      <td> 1</td>\n",
        "      <td> 1</td>\n",
        "      <td>           347742</td>\n",
        "      <td>  11.1333</td>\n",
        "      <td>         NaN</td>\n",
        "      <td> S</td>\n",
        "      <td> Master.</td>\n",
        "    </tr>\n",
        "    <tr>\n",
        "      <th>870</th>\n",
        "      <td> 871</td>\n",
        "      <td> 0</td>\n",
        "      <td> 3</td>\n",
        "      <td>                                 Balkic, Mr. Cerin</td>\n",
        "      <td>   male</td>\n",
        "      <td> 26</td>\n",
        "      <td> 0</td>\n",
        "      <td> 0</td>\n",
        "      <td>           349248</td>\n",
        "      <td>   7.8958</td>\n",
        "      <td>         NaN</td>\n",
        "      <td> S</td>\n",
        "      <td>     Mr.</td>\n",
        "    </tr>\n",
        "    <tr>\n",
        "      <th>871</th>\n",
        "      <td> 872</td>\n",
        "      <td> 1</td>\n",
        "      <td> 1</td>\n",
        "      <td>  Beckwith, Mrs. Richard Leonard (Sallie Monypeny)</td>\n",
        "      <td> female</td>\n",
        "      <td> 47</td>\n",
        "      <td> 1</td>\n",
        "      <td> 1</td>\n",
        "      <td>            11751</td>\n",
        "      <td>  52.5542</td>\n",
        "      <td>         D35</td>\n",
        "      <td> S</td>\n",
        "      <td>    Mrs.</td>\n",
        "    </tr>\n",
        "    <tr>\n",
        "      <th>872</th>\n",
        "      <td> 873</td>\n",
        "      <td> 0</td>\n",
        "      <td> 1</td>\n",
        "      <td>                          Carlsson, Mr. Frans Olof</td>\n",
        "      <td>   male</td>\n",
        "      <td> 33</td>\n",
        "      <td> 0</td>\n",
        "      <td> 0</td>\n",
        "      <td>              695</td>\n",
        "      <td>   5.0000</td>\n",
        "      <td> B51 B53 B55</td>\n",
        "      <td> S</td>\n",
        "      <td>     Mr.</td>\n",
        "    </tr>\n",
        "    <tr>\n",
        "      <th>873</th>\n",
        "      <td> 874</td>\n",
        "      <td> 0</td>\n",
        "      <td> 3</td>\n",
        "      <td>                       Vander Cruyssen, Mr. Victor</td>\n",
        "      <td>   male</td>\n",
        "      <td> 47</td>\n",
        "      <td> 0</td>\n",
        "      <td> 0</td>\n",
        "      <td>           345765</td>\n",
        "      <td>   9.0000</td>\n",
        "      <td>         NaN</td>\n",
        "      <td> S</td>\n",
        "      <td>     Mr.</td>\n",
        "    </tr>\n",
        "    <tr>\n",
        "      <th>874</th>\n",
        "      <td> 875</td>\n",
        "      <td> 1</td>\n",
        "      <td> 2</td>\n",
        "      <td>             Abelson, Mrs. Samuel (Hannah Wizosky)</td>\n",
        "      <td> female</td>\n",
        "      <td> 28</td>\n",
        "      <td> 1</td>\n",
        "      <td> 0</td>\n",
        "      <td>        P/PP 3381</td>\n",
        "      <td>  24.0000</td>\n",
        "      <td>         NaN</td>\n",
        "      <td> C</td>\n",
        "      <td>    Mrs.</td>\n",
        "    </tr>\n",
        "    <tr>\n",
        "      <th>875</th>\n",
        "      <td> 876</td>\n",
        "      <td> 1</td>\n",
        "      <td> 3</td>\n",
        "      <td>                  Najib, Miss. Adele Kiamie \"Jane\"</td>\n",
        "      <td> female</td>\n",
        "      <td> 15</td>\n",
        "      <td> 0</td>\n",
        "      <td> 0</td>\n",
        "      <td>             2667</td>\n",
        "      <td>   7.2250</td>\n",
        "      <td>         NaN</td>\n",
        "      <td> C</td>\n",
        "      <td>   Miss.</td>\n",
        "    </tr>\n",
        "    <tr>\n",
        "      <th>876</th>\n",
        "      <td> 877</td>\n",
        "      <td> 0</td>\n",
        "      <td> 3</td>\n",
        "      <td>                     Gustafsson, Mr. Alfred Ossian</td>\n",
        "      <td>   male</td>\n",
        "      <td> 20</td>\n",
        "      <td> 0</td>\n",
        "      <td> 0</td>\n",
        "      <td>             7534</td>\n",
        "      <td>   9.8458</td>\n",
        "      <td>         NaN</td>\n",
        "      <td> S</td>\n",
        "      <td>     Mr.</td>\n",
        "    </tr>\n",
        "    <tr>\n",
        "      <th>877</th>\n",
        "      <td> 878</td>\n",
        "      <td> 0</td>\n",
        "      <td> 3</td>\n",
        "      <td>                              Petroff, Mr. Nedelio</td>\n",
        "      <td>   male</td>\n",
        "      <td> 19</td>\n",
        "      <td> 0</td>\n",
        "      <td> 0</td>\n",
        "      <td>           349212</td>\n",
        "      <td>   7.8958</td>\n",
        "      <td>         NaN</td>\n",
        "      <td> S</td>\n",
        "      <td>     Mr.</td>\n",
        "    </tr>\n",
        "    <tr>\n",
        "      <th>878</th>\n",
        "      <td> 879</td>\n",
        "      <td> 0</td>\n",
        "      <td> 3</td>\n",
        "      <td>                                Laleff, Mr. Kristo</td>\n",
        "      <td>   male</td>\n",
        "      <td>NaN</td>\n",
        "      <td> 0</td>\n",
        "      <td> 0</td>\n",
        "      <td>           349217</td>\n",
        "      <td>   7.8958</td>\n",
        "      <td>         NaN</td>\n",
        "      <td> S</td>\n",
        "      <td>     Mr.</td>\n",
        "    </tr>\n",
        "    <tr>\n",
        "      <th>879</th>\n",
        "      <td> 880</td>\n",
        "      <td> 1</td>\n",
        "      <td> 1</td>\n",
        "      <td>     Potter, Mrs. Thomas Jr (Lily Alexenia Wilson)</td>\n",
        "      <td> female</td>\n",
        "      <td> 56</td>\n",
        "      <td> 0</td>\n",
        "      <td> 1</td>\n",
        "      <td>            11767</td>\n",
        "      <td>  83.1583</td>\n",
        "      <td>         C50</td>\n",
        "      <td> C</td>\n",
        "      <td>    Mrs.</td>\n",
        "    </tr>\n",
        "    <tr>\n",
        "      <th>880</th>\n",
        "      <td> 881</td>\n",
        "      <td> 1</td>\n",
        "      <td> 2</td>\n",
        "      <td>      Shelley, Mrs. William (Imanita Parrish Hall)</td>\n",
        "      <td> female</td>\n",
        "      <td> 25</td>\n",
        "      <td> 0</td>\n",
        "      <td> 1</td>\n",
        "      <td>           230433</td>\n",
        "      <td>  26.0000</td>\n",
        "      <td>         NaN</td>\n",
        "      <td> S</td>\n",
        "      <td>    Mrs.</td>\n",
        "    </tr>\n",
        "    <tr>\n",
        "      <th>881</th>\n",
        "      <td> 882</td>\n",
        "      <td> 0</td>\n",
        "      <td> 3</td>\n",
        "      <td>                                Markun, Mr. Johann</td>\n",
        "      <td>   male</td>\n",
        "      <td> 33</td>\n",
        "      <td> 0</td>\n",
        "      <td> 0</td>\n",
        "      <td>           349257</td>\n",
        "      <td>   7.8958</td>\n",
        "      <td>         NaN</td>\n",
        "      <td> S</td>\n",
        "      <td>     Mr.</td>\n",
        "    </tr>\n",
        "    <tr>\n",
        "      <th>882</th>\n",
        "      <td> 883</td>\n",
        "      <td> 0</td>\n",
        "      <td> 3</td>\n",
        "      <td>                      Dahlberg, Miss. Gerda Ulrika</td>\n",
        "      <td> female</td>\n",
        "      <td> 22</td>\n",
        "      <td> 0</td>\n",
        "      <td> 0</td>\n",
        "      <td>             7552</td>\n",
        "      <td>  10.5167</td>\n",
        "      <td>         NaN</td>\n",
        "      <td> S</td>\n",
        "      <td>   Miss.</td>\n",
        "    </tr>\n",
        "    <tr>\n",
        "      <th>883</th>\n",
        "      <td> 884</td>\n",
        "      <td> 0</td>\n",
        "      <td> 2</td>\n",
        "      <td>                     Banfield, Mr. Frederick James</td>\n",
        "      <td>   male</td>\n",
        "      <td> 28</td>\n",
        "      <td> 0</td>\n",
        "      <td> 0</td>\n",
        "      <td> C.A./SOTON 34068</td>\n",
        "      <td>  10.5000</td>\n",
        "      <td>         NaN</td>\n",
        "      <td> S</td>\n",
        "      <td>     Mr.</td>\n",
        "    </tr>\n",
        "    <tr>\n",
        "      <th>884</th>\n",
        "      <td> 885</td>\n",
        "      <td> 0</td>\n",
        "      <td> 3</td>\n",
        "      <td>                            Sutehall, Mr. Henry Jr</td>\n",
        "      <td>   male</td>\n",
        "      <td> 25</td>\n",
        "      <td> 0</td>\n",
        "      <td> 0</td>\n",
        "      <td>  SOTON/OQ 392076</td>\n",
        "      <td>   7.0500</td>\n",
        "      <td>         NaN</td>\n",
        "      <td> S</td>\n",
        "      <td>     Mr.</td>\n",
        "    </tr>\n",
        "    <tr>\n",
        "      <th>885</th>\n",
        "      <td> 886</td>\n",
        "      <td> 0</td>\n",
        "      <td> 3</td>\n",
        "      <td>              Rice, Mrs. William (Margaret Norton)</td>\n",
        "      <td> female</td>\n",
        "      <td> 39</td>\n",
        "      <td> 0</td>\n",
        "      <td> 5</td>\n",
        "      <td>           382652</td>\n",
        "      <td>  29.1250</td>\n",
        "      <td>         NaN</td>\n",
        "      <td> Q</td>\n",
        "      <td>    Mrs.</td>\n",
        "    </tr>\n",
        "    <tr>\n",
        "      <th>886</th>\n",
        "      <td> 887</td>\n",
        "      <td> 0</td>\n",
        "      <td> 2</td>\n",
        "      <td>                             Montvila, Rev. Juozas</td>\n",
        "      <td>   male</td>\n",
        "      <td> 27</td>\n",
        "      <td> 0</td>\n",
        "      <td> 0</td>\n",
        "      <td>           211536</td>\n",
        "      <td>  13.0000</td>\n",
        "      <td>         NaN</td>\n",
        "      <td> S</td>\n",
        "      <td>     Mr.</td>\n",
        "    </tr>\n",
        "    <tr>\n",
        "      <th>887</th>\n",
        "      <td> 888</td>\n",
        "      <td> 1</td>\n",
        "      <td> 1</td>\n",
        "      <td>                      Graham, Miss. Margaret Edith</td>\n",
        "      <td> female</td>\n",
        "      <td> 19</td>\n",
        "      <td> 0</td>\n",
        "      <td> 0</td>\n",
        "      <td>           112053</td>\n",
        "      <td>  30.0000</td>\n",
        "      <td>         B42</td>\n",
        "      <td> S</td>\n",
        "      <td>   Miss.</td>\n",
        "    </tr>\n",
        "    <tr>\n",
        "      <th>888</th>\n",
        "      <td> 889</td>\n",
        "      <td> 0</td>\n",
        "      <td> 3</td>\n",
        "      <td>          Johnston, Miss. Catherine Helen \"Carrie\"</td>\n",
        "      <td> female</td>\n",
        "      <td>NaN</td>\n",
        "      <td> 1</td>\n",
        "      <td> 2</td>\n",
        "      <td>       W./C. 6607</td>\n",
        "      <td>  23.4500</td>\n",
        "      <td>         NaN</td>\n",
        "      <td> S</td>\n",
        "      <td>   Miss.</td>\n",
        "    </tr>\n",
        "    <tr>\n",
        "      <th>889</th>\n",
        "      <td> 890</td>\n",
        "      <td> 1</td>\n",
        "      <td> 1</td>\n",
        "      <td>                             Behr, Mr. Karl Howell</td>\n",
        "      <td>   male</td>\n",
        "      <td> 26</td>\n",
        "      <td> 0</td>\n",
        "      <td> 0</td>\n",
        "      <td>           111369</td>\n",
        "      <td>  30.0000</td>\n",
        "      <td>        C148</td>\n",
        "      <td> C</td>\n",
        "      <td>     Mr.</td>\n",
        "    </tr>\n",
        "    <tr>\n",
        "      <th>890</th>\n",
        "      <td> 891</td>\n",
        "      <td> 0</td>\n",
        "      <td> 3</td>\n",
        "      <td>                               Dooley, Mr. Patrick</td>\n",
        "      <td>   male</td>\n",
        "      <td> 32</td>\n",
        "      <td> 0</td>\n",
        "      <td> 0</td>\n",
        "      <td>           370376</td>\n",
        "      <td>   7.7500</td>\n",
        "      <td>         NaN</td>\n",
        "      <td> Q</td>\n",
        "      <td>     Mr.</td>\n",
        "    </tr>\n",
        "  </tbody>\n",
        "</table>\n",
        "<p>891 rows \u00d7 13 columns</p>\n",
        "</div>"
       ],
       "metadata": {},
       "output_type": "pyout",
       "prompt_number": 289,
       "text": [
        "     PassengerId  Survived  Pclass  \\\n",
        "0              1         0       3   \n",
        "1              2         1       1   \n",
        "2              3         1       3   \n",
        "3              4         1       1   \n",
        "4              5         0       3   \n",
        "5              6         0       3   \n",
        "6              7         0       1   \n",
        "7              8         0       3   \n",
        "8              9         1       3   \n",
        "9             10         1       2   \n",
        "10            11         1       3   \n",
        "11            12         1       1   \n",
        "12            13         0       3   \n",
        "13            14         0       3   \n",
        "14            15         0       3   \n",
        "15            16         1       2   \n",
        "16            17         0       3   \n",
        "17            18         1       2   \n",
        "18            19         0       3   \n",
        "19            20         1       3   \n",
        "20            21         0       2   \n",
        "21            22         1       2   \n",
        "22            23         1       3   \n",
        "23            24         1       1   \n",
        "24            25         0       3   \n",
        "25            26         1       3   \n",
        "26            27         0       3   \n",
        "27            28         0       1   \n",
        "28            29         1       3   \n",
        "29            30         0       3   \n",
        "..           ...       ...     ...   \n",
        "861          862         0       2   \n",
        "862          863         1       1   \n",
        "863          864         0       3   \n",
        "864          865         0       2   \n",
        "865          866         1       2   \n",
        "866          867         1       2   \n",
        "867          868         0       1   \n",
        "868          869         0       3   \n",
        "869          870         1       3   \n",
        "870          871         0       3   \n",
        "871          872         1       1   \n",
        "872          873         0       1   \n",
        "873          874         0       3   \n",
        "874          875         1       2   \n",
        "875          876         1       3   \n",
        "876          877         0       3   \n",
        "877          878         0       3   \n",
        "878          879         0       3   \n",
        "879          880         1       1   \n",
        "880          881         1       2   \n",
        "881          882         0       3   \n",
        "882          883         0       3   \n",
        "883          884         0       2   \n",
        "884          885         0       3   \n",
        "885          886         0       3   \n",
        "886          887         0       2   \n",
        "887          888         1       1   \n",
        "888          889         0       3   \n",
        "889          890         1       1   \n",
        "890          891         0       3   \n",
        "\n",
        "                                                  Name     Sex  Age  SibSp  \\\n",
        "0                              Braund, Mr. Owen Harris    male   22      1   \n",
        "1    Cumings, Mrs. John Bradley (Florence Briggs Th...  female   38      1   \n",
        "2                               Heikkinen, Miss. Laina  female   26      0   \n",
        "3         Futrelle, Mrs. Jacques Heath (Lily May Peel)  female   35      1   \n",
        "4                             Allen, Mr. William Henry    male   35      0   \n",
        "5                                     Moran, Mr. James    male  NaN      0   \n",
        "6                              McCarthy, Mr. Timothy J    male   54      0   \n",
        "7                       Palsson, Master. Gosta Leonard    male    2      3   \n",
        "8    Johnson, Mrs. Oscar W (Elisabeth Vilhelmina Berg)  female   27      0   \n",
        "9                  Nasser, Mrs. Nicholas (Adele Achem)  female   14      1   \n",
        "10                     Sandstrom, Miss. Marguerite Rut  female    4      1   \n",
        "11                            Bonnell, Miss. Elizabeth  female   58      0   \n",
        "12                      Saundercock, Mr. William Henry    male   20      0   \n",
        "13                         Andersson, Mr. Anders Johan    male   39      1   \n",
        "14                Vestrom, Miss. Hulda Amanda Adolfina  female   14      0   \n",
        "15                    Hewlett, Mrs. (Mary D Kingcome)   female   55      0   \n",
        "16                                Rice, Master. Eugene    male    2      4   \n",
        "17                        Williams, Mr. Charles Eugene    male  NaN      0   \n",
        "18   Vander Planke, Mrs. Julius (Emelia Maria Vande...  female   31      1   \n",
        "19                             Masselmani, Mrs. Fatima  female  NaN      0   \n",
        "20                                Fynney, Mr. Joseph J    male   35      0   \n",
        "21                               Beesley, Mr. Lawrence    male   34      0   \n",
        "22                         McGowan, Miss. Anna \"Annie\"  female   15      0   \n",
        "23                        Sloper, Mr. William Thompson    male   28      0   \n",
        "24                       Palsson, Miss. Torborg Danira  female    8      3   \n",
        "25   Asplund, Mrs. Carl Oscar (Selma Augusta Emilia...  female   38      1   \n",
        "26                             Emir, Mr. Farred Chehab    male  NaN      0   \n",
        "27                      Fortune, Mr. Charles Alexander    male   19      3   \n",
        "28                       O'Dwyer, Miss. Ellen \"Nellie\"  female  NaN      0   \n",
        "29                                 Todoroff, Mr. Lalio    male  NaN      0   \n",
        "..                                                 ...     ...  ...    ...   \n",
        "861                        Giles, Mr. Frederick Edward    male   21      1   \n",
        "862  Swift, Mrs. Frederick Joel (Margaret Welles Ba...  female   48      0   \n",
        "863                  Sage, Miss. Dorothy Edith \"Dolly\"  female  NaN      8   \n",
        "864                             Gill, Mr. John William    male   24      0   \n",
        "865                           Bystrom, Mrs. (Karolina)  female   42      0   \n",
        "866                       Duran y More, Miss. Asuncion  female   27      1   \n",
        "867               Roebling, Mr. Washington Augustus II    male   31      0   \n",
        "868                        van Melkebeke, Mr. Philemon    male  NaN      0   \n",
        "869                    Johnson, Master. Harold Theodor    male    4      1   \n",
        "870                                  Balkic, Mr. Cerin    male   26      0   \n",
        "871   Beckwith, Mrs. Richard Leonard (Sallie Monypeny)  female   47      1   \n",
        "872                           Carlsson, Mr. Frans Olof    male   33      0   \n",
        "873                        Vander Cruyssen, Mr. Victor    male   47      0   \n",
        "874              Abelson, Mrs. Samuel (Hannah Wizosky)  female   28      1   \n",
        "875                   Najib, Miss. Adele Kiamie \"Jane\"  female   15      0   \n",
        "876                      Gustafsson, Mr. Alfred Ossian    male   20      0   \n",
        "877                               Petroff, Mr. Nedelio    male   19      0   \n",
        "878                                 Laleff, Mr. Kristo    male  NaN      0   \n",
        "879      Potter, Mrs. Thomas Jr (Lily Alexenia Wilson)  female   56      0   \n",
        "880       Shelley, Mrs. William (Imanita Parrish Hall)  female   25      0   \n",
        "881                                 Markun, Mr. Johann    male   33      0   \n",
        "882                       Dahlberg, Miss. Gerda Ulrika  female   22      0   \n",
        "883                      Banfield, Mr. Frederick James    male   28      0   \n",
        "884                             Sutehall, Mr. Henry Jr    male   25      0   \n",
        "885               Rice, Mrs. William (Margaret Norton)  female   39      0   \n",
        "886                              Montvila, Rev. Juozas    male   27      0   \n",
        "887                       Graham, Miss. Margaret Edith  female   19      0   \n",
        "888           Johnston, Miss. Catherine Helen \"Carrie\"  female  NaN      1   \n",
        "889                              Behr, Mr. Karl Howell    male   26      0   \n",
        "890                                Dooley, Mr. Patrick    male   32      0   \n",
        "\n",
        "     Parch            Ticket      Fare        Cabin Embarked    title  \n",
        "0        0         A/5 21171    7.2500          NaN        S      Mr.  \n",
        "1        0          PC 17599   71.2833          C85        C     Mrs.  \n",
        "2        0  STON/O2. 3101282    7.9250          NaN        S    Miss.  \n",
        "3        0            113803   53.1000         C123        S     Mrs.  \n",
        "4        0            373450    8.0500          NaN        S      Mr.  \n",
        "5        0            330877    8.4583          NaN        Q      Mr.  \n",
        "6        0             17463   51.8625          E46        S      Mr.  \n",
        "7        1            349909   21.0750          NaN        S  Master.  \n",
        "8        2            347742   11.1333          NaN        S     Mrs.  \n",
        "9        0            237736   30.0708          NaN        C     Mrs.  \n",
        "10       1           PP 9549   16.7000           G6        S    Miss.  \n",
        "11       0            113783   26.5500         C103        S    Miss.  \n",
        "12       0         A/5. 2151    8.0500          NaN        S      Mr.  \n",
        "13       5            347082   31.2750          NaN        S      Mr.  \n",
        "14       0            350406    7.8542          NaN        S    Miss.  \n",
        "15       0            248706   16.0000          NaN        S     Mrs.  \n",
        "16       1            382652   29.1250          NaN        Q  Master.  \n",
        "17       0            244373   13.0000          NaN        S      Mr.  \n",
        "18       0            345763   18.0000          NaN        S     Mrs.  \n",
        "19       0              2649    7.2250          NaN        C     Mrs.  \n",
        "20       0            239865   26.0000          NaN        S      Mr.  \n",
        "21       0            248698   13.0000          D56        S      Mr.  \n",
        "22       0            330923    8.0292          NaN        Q    Miss.  \n",
        "23       0            113788   35.5000           A6        S      Mr.  \n",
        "24       1            349909   21.0750          NaN        S    Miss.  \n",
        "25       5            347077   31.3875          NaN        S     Mrs.  \n",
        "26       0              2631    7.2250          NaN        C      Mr.  \n",
        "27       2             19950  263.0000  C23 C25 C27        S      Mr.  \n",
        "28       0            330959    7.8792          NaN        Q    Miss.  \n",
        "29       0            349216    7.8958          NaN        S      Mr.  \n",
        "..     ...               ...       ...          ...      ...      ...  \n",
        "861      0             28134   11.5000          NaN        S      Mr.  \n",
        "862      0             17466   25.9292          D17        S     Mrs.  \n",
        "863      2          CA. 2343   69.5500          NaN        S    Miss.  \n",
        "864      0            233866   13.0000          NaN        S      Mr.  \n",
        "865      0            236852   13.0000          NaN        S     Mrs.  \n",
        "866      0     SC/PARIS 2149   13.8583          NaN        C    Miss.  \n",
        "867      0          PC 17590   50.4958          A24        S      Mr.  \n",
        "868      0            345777    9.5000          NaN        S      Mr.  \n",
        "869      1            347742   11.1333          NaN        S  Master.  \n",
        "870      0            349248    7.8958          NaN        S      Mr.  \n",
        "871      1             11751   52.5542          D35        S     Mrs.  \n",
        "872      0               695    5.0000  B51 B53 B55        S      Mr.  \n",
        "873      0            345765    9.0000          NaN        S      Mr.  \n",
        "874      0         P/PP 3381   24.0000          NaN        C     Mrs.  \n",
        "875      0              2667    7.2250          NaN        C    Miss.  \n",
        "876      0              7534    9.8458          NaN        S      Mr.  \n",
        "877      0            349212    7.8958          NaN        S      Mr.  \n",
        "878      0            349217    7.8958          NaN        S      Mr.  \n",
        "879      1             11767   83.1583          C50        C     Mrs.  \n",
        "880      1            230433   26.0000          NaN        S     Mrs.  \n",
        "881      0            349257    7.8958          NaN        S      Mr.  \n",
        "882      0              7552   10.5167          NaN        S    Miss.  \n",
        "883      0  C.A./SOTON 34068   10.5000          NaN        S      Mr.  \n",
        "884      0   SOTON/OQ 392076    7.0500          NaN        S      Mr.  \n",
        "885      5            382652   29.1250          NaN        Q     Mrs.  \n",
        "886      0            211536   13.0000          NaN        S      Mr.  \n",
        "887      0            112053   30.0000          B42        S    Miss.  \n",
        "888      2        W./C. 6607   23.4500          NaN        S    Miss.  \n",
        "889      0            111369   30.0000         C148        C      Mr.  \n",
        "890      0            370376    7.7500          NaN        Q      Mr.  \n",
        "\n",
        "[891 rows x 13 columns]"
       ]
      }
     ],
     "prompt_number": 289
    },
    {
     "cell_type": "code",
     "collapsed": false,
     "input": [
      "#now working on the Ticket, Cabin, Embarked variable\n",
      "pd.set_option('display.max_rows', 999)\n",
      "print data['Ticket'].head(800)\n",
      "#so ticket number part and string part, we can only retain the number part since most of the string parts are missing\n",
      "# ticket number indicates the seat position, which might be related to the survive likelihood\n",
      "# but, it is definitely not linear, so random forest and etc non-linear models should try this variable extrace from tickets--as float type"
     ],
     "language": "python",
     "metadata": {},
     "outputs": [
      {
       "output_type": "stream",
       "stream": "stdout",
       "text": [
        "0               A/5 21171\n",
        "1                PC 17599\n",
        "2        STON/O2. 3101282\n",
        "3                  113803\n",
        "4                  373450\n",
        "5                  330877\n",
        "6                   17463\n",
        "7                  349909\n",
        "8                  347742\n",
        "9                  237736\n",
        "10                PP 9549\n",
        "11                 113783\n",
        "12              A/5. 2151\n",
        "13                 347082\n",
        "14                 350406\n",
        "15                 248706\n",
        "16                 382652\n",
        "17                 244373\n",
        "18                 345763\n",
        "19                   2649\n",
        "20                 239865\n",
        "21                 248698\n",
        "22                 330923\n",
        "23                 113788\n",
        "24                 349909\n",
        "25                 347077\n",
        "26                   2631\n",
        "27                  19950\n",
        "28                 330959\n",
        "29                 349216\n",
        "30               PC 17601\n",
        "31               PC 17569\n",
        "32                 335677\n",
        "33             C.A. 24579\n",
        "34               PC 17604\n",
        "35                 113789\n",
        "36                   2677\n",
        "37             A./5. 2152\n",
        "38                 345764\n",
        "39                   2651\n",
        "40                   7546\n",
        "41                  11668\n",
        "42                 349253\n",
        "43          SC/Paris 2123\n",
        "44                 330958\n",
        "45        S.C./A.4. 23567\n",
        "46                 370371\n",
        "47                  14311\n",
        "48                   2662\n",
        "49                 349237\n",
        "50                3101295\n",
        "51             A/4. 39886\n",
        "52               PC 17572\n",
        "53                   2926\n",
        "54                 113509\n",
        "55                  19947\n",
        "56             C.A. 31026\n",
        "57                   2697\n",
        "58             C.A. 34651\n",
        "59                CA 2144\n",
        "60                   2669\n",
        "61                 113572\n",
        "62                  36973\n",
        "63                 347088\n",
        "64               PC 17605\n",
        "65                   2661\n",
        "66             C.A. 29395\n",
        "67              S.P. 3464\n",
        "68                3101281\n",
        "69                 315151\n",
        "70             C.A. 33111\n",
        "71                CA 2144\n",
        "72           S.O.C. 14879\n",
        "73                   2680\n",
        "74                   1601\n",
        "75                 348123\n",
        "76                 349208\n",
        "77                 374746\n",
        "78                 248738\n",
        "79                 364516\n",
        "80                 345767\n",
        "81                 345779\n",
        "82                 330932\n",
        "83                 113059\n",
        "84             SO/C 14885\n",
        "85                3101278\n",
        "86             W./C. 6608\n",
        "87        SOTON/OQ 392086\n",
        "88                  19950\n",
        "89                 343275\n",
        "90                 343276\n",
        "91                 347466\n",
        "92            W.E.P. 5734\n",
        "93              C.A. 2315\n",
        "94                 364500\n",
        "95                 374910\n",
        "96               PC 17754\n",
        "97               PC 17759\n",
        "98                 231919\n",
        "99                 244367\n",
        "100                349245\n",
        "101                349215\n",
        "102                 35281\n",
        "103                  7540\n",
        "104               3101276\n",
        "105                349207\n",
        "106                343120\n",
        "107                312991\n",
        "108                349249\n",
        "109                371110\n",
        "110                110465\n",
        "111                  2665\n",
        "112                324669\n",
        "113                  4136\n",
        "114                  2627\n",
        "115     STON/O 2. 3101294\n",
        "116                370369\n",
        "117                 11668\n",
        "118              PC 17558\n",
        "119                347082\n",
        "120          S.O.C. 14879\n",
        "121             A4. 54510\n",
        "122                237736\n",
        "123                 27267\n",
        "124                 35281\n",
        "125                  2651\n",
        "126                370372\n",
        "127               C 17369\n",
        "128                  2668\n",
        "129                347061\n",
        "130                349241\n",
        "131    SOTON/O.Q. 3101307\n",
        "132             A/5. 3337\n",
        "133                228414\n",
        "134            C.A. 29178\n",
        "135         SC/PARIS 2133\n",
        "136                 11752\n",
        "137                113803\n",
        "138                  7534\n",
        "139              PC 17593\n",
        "140                  2678\n",
        "141                347081\n",
        "142      STON/O2. 3101279\n",
        "143                365222\n",
        "144                231945\n",
        "145            C.A. 33112\n",
        "146                350043\n",
        "147            W./C. 6608\n",
        "148                230080\n",
        "149                244310\n",
        "150           S.O.P. 1166\n",
        "151                113776\n",
        "152            A.5. 11206\n",
        "153              A/5. 851\n",
        "154             Fa 265302\n",
        "155              PC 17597\n",
        "156                 35851\n",
        "157       SOTON/OQ 392090\n",
        "158                315037\n",
        "159              CA. 2343\n",
        "160                371362\n",
        "161            C.A. 33595\n",
        "162                347068\n",
        "163                315093\n",
        "164               3101295\n",
        "165                363291\n",
        "166                113505\n",
        "167                347088\n",
        "168              PC 17318\n",
        "169                  1601\n",
        "170                111240\n",
        "171                382652\n",
        "172                347742\n",
        "173     STON/O 2. 3101280\n",
        "174                 17764\n",
        "175                350404\n",
        "176                  4133\n",
        "177              PC 17595\n",
        "178                250653\n",
        "179                  LINE\n",
        "180              CA. 2343\n",
        "181         SC/PARIS 2131\n",
        "182                347077\n",
        "183                230136\n",
        "184                315153\n",
        "185                113767\n",
        "186                370365\n",
        "187                111428\n",
        "188                364849\n",
        "189                349247\n",
        "190                234604\n",
        "191                 28424\n",
        "192                350046\n",
        "193                230080\n",
        "194              PC 17610\n",
        "195              PC 17569\n",
        "196                368703\n",
        "197                  4579\n",
        "198                370370\n",
        "199                248747\n",
        "200                345770\n",
        "201              CA. 2343\n",
        "202               3101264\n",
        "203                  2628\n",
        "204              A/5 3540\n",
        "205                347054\n",
        "206               3101278\n",
        "207                  2699\n",
        "208                367231\n",
        "209                112277\n",
        "210    SOTON/O.Q. 3101311\n",
        "211          F.C.C. 13528\n",
        "212             A/5 21174\n",
        "213                250646\n",
        "214                367229\n",
        "215                 35273\n",
        "216      STON/O2. 3101283\n",
        "217                243847\n",
        "218                 11813\n",
        "219             W/C 14208\n",
        "220       SOTON/OQ 392089\n",
        "221                220367\n",
        "222                 21440\n",
        "223                349234\n",
        "224                 19943\n",
        "225               PP 4348\n",
        "226             SW/PP 751\n",
        "227             A/5 21173\n",
        "228                236171\n",
        "229                  4133\n",
        "230                 36973\n",
        "231                347067\n",
        "232                237442\n",
        "233                347077\n",
        "234            C.A. 29566\n",
        "235            W./C. 6609\n",
        "236                 26707\n",
        "237            C.A. 31921\n",
        "238                 28665\n",
        "239            SCO/W 1585\n",
        "240                  2665\n",
        "241                367230\n",
        "242           W./C. 14263\n",
        "243     STON/O 2. 3101275\n",
        "244                  2694\n",
        "245                 19928\n",
        "246                347071\n",
        "247                250649\n",
        "248                 11751\n",
        "249                244252\n",
        "250                362316\n",
        "251                347054\n",
        "252                113514\n",
        "253             A/5. 3336\n",
        "254                370129\n",
        "255                  2650\n",
        "256              PC 17585\n",
        "257                110152\n",
        "258              PC 17755\n",
        "259                230433\n",
        "260                384461\n",
        "261                347077\n",
        "262                110413\n",
        "263                112059\n",
        "264                382649\n",
        "265            C.A. 17248\n",
        "266               3101295\n",
        "267                347083\n",
        "268              PC 17582\n",
        "269              PC 17760\n",
        "270                113798\n",
        "271                  LINE\n",
        "272                250644\n",
        "273              PC 17596\n",
        "274                370375\n",
        "275                 13502\n",
        "276                347073\n",
        "277                239853\n",
        "278                382652\n",
        "279             C.A. 2673\n",
        "280                336439\n",
        "281                347464\n",
        "282                345778\n",
        "283            A/5. 10482\n",
        "284                113056\n",
        "285                349239\n",
        "286                345774\n",
        "287                349206\n",
        "288                237798\n",
        "289                370373\n",
        "290                 19877\n",
        "291                 11967\n",
        "292         SC/Paris 2163\n",
        "293                349236\n",
        "294                349233\n",
        "295              PC 17612\n",
        "296                  2693\n",
        "297                113781\n",
        "298                 19988\n",
        "299              PC 17558\n",
        "300                  9234\n",
        "301                367226\n",
        "302                  LINE\n",
        "303                226593\n",
        "304              A/5 2466\n",
        "305                113781\n",
        "306                 17421\n",
        "307              PC 17758\n",
        "308             P/PP 3381\n",
        "309              PC 17485\n",
        "310                 11767\n",
        "311              PC 17608\n",
        "312                250651\n",
        "313                349243\n",
        "314          F.C.C. 13529\n",
        "315                347470\n",
        "316                244367\n",
        "317                 29011\n",
        "318                 36928\n",
        "319                 16966\n",
        "320             A/5 21172\n",
        "321                349219\n",
        "322                234818\n",
        "323                248738\n",
        "324              CA. 2343\n",
        "325              PC 17760\n",
        "326                345364\n",
        "327                 28551\n",
        "328                363291\n",
        "329                111361\n",
        "330                367226\n",
        "331                113043\n",
        "332              PC 17582\n",
        "333                345764\n",
        "334              PC 17611\n",
        "335                349225\n",
        "336                113776\n",
        "337                 16966\n",
        "338                  7598\n",
        "339                113784\n",
        "340                230080\n",
        "341                 19950\n",
        "342                248740\n",
        "343                244361\n",
        "344                229236\n",
        "345                248733\n",
        "346                 31418\n",
        "347                386525\n",
        "348            C.A. 37671\n",
        "349                315088\n",
        "350                  7267\n",
        "351                113510\n",
        "352                  2695\n",
        "353                349237\n",
        "354                  2647\n",
        "355                345783\n",
        "356                113505\n",
        "357                237671\n",
        "358                330931\n",
        "359                330980\n",
        "360                347088\n",
        "361         SC/PARIS 2167\n",
        "362                  2691\n",
        "363    SOTON/O.Q. 3101310\n",
        "364                370365\n",
        "365                C 7076\n",
        "366                110813\n",
        "367                  2626\n",
        "368                 14313\n",
        "369              PC 17477\n",
        "370                 11765\n",
        "371               3101267\n",
        "372                323951\n",
        "373              PC 17760\n",
        "374                349909\n",
        "375              PC 17604\n",
        "376                C 7077\n",
        "377                113503\n",
        "378                  2648\n",
        "379                347069\n",
        "380              PC 17757\n",
        "381                  2653\n",
        "382     STON/O 2. 3101293\n",
        "383                113789\n",
        "384                349227\n",
        "385          S.O.C. 14879\n",
        "386               CA 2144\n",
        "387                 27849\n",
        "388                367655\n",
        "389               SC 1748\n",
        "390                113760\n",
        "391                350034\n",
        "392               3101277\n",
        "393                 35273\n",
        "394               PP 9549\n",
        "395                350052\n",
        "396                350407\n",
        "397                 28403\n",
        "398                244278\n",
        "399                240929\n",
        "400     STON/O 2. 3101289\n",
        "401                341826\n",
        "402                  4137\n",
        "403      STON/O2. 3101279\n",
        "404                315096\n",
        "405                 28664\n",
        "406                347064\n",
        "407                 29106\n",
        "408                312992\n",
        "409                  4133\n",
        "410                349222\n",
        "411                394140\n",
        "412                 19928\n",
        "413                239853\n",
        "414     STON/O 2. 3101269\n",
        "415                343095\n",
        "416                 28220\n",
        "417                250652\n",
        "418                 28228\n",
        "419                345773\n",
        "420                349254\n",
        "421            A/5. 13032\n",
        "422                315082\n",
        "423                347080\n",
        "424                370129\n",
        "425            A/4. 34244\n",
        "426                  2003\n",
        "427                250655\n",
        "428                364851\n",
        "429     SOTON/O.Q. 392078\n",
        "430                110564\n",
        "431                376564\n",
        "432            SC/AH 3085\n",
        "433     STON/O 2. 3101274\n",
        "434                 13507\n",
        "435                113760\n",
        "436            W./C. 6608\n",
        "437                 29106\n",
        "438                 19950\n",
        "439            C.A. 18723\n",
        "440          F.C.C. 13529\n",
        "441                345769\n",
        "442                347076\n",
        "443                230434\n",
        "444                 65306\n",
        "445                 33638\n",
        "446                250644\n",
        "447                113794\n",
        "448                  2666\n",
        "449                113786\n",
        "450            C.A. 34651\n",
        "451                 65303\n",
        "452                113051\n",
        "453                 17453\n",
        "454              A/5 2817\n",
        "455                349240\n",
        "456                 13509\n",
        "457                 17464\n",
        "458          F.C.C. 13531\n",
        "459                371060\n",
        "460                 19952\n",
        "461                364506\n",
        "462                111320\n",
        "463                234360\n",
        "464              A/S 2816\n",
        "465    SOTON/O.Q. 3101306\n",
        "466                239853\n",
        "467                113792\n",
        "468                 36209\n",
        "469                  2666\n",
        "470                323592\n",
        "471                315089\n",
        "472            C.A. 34651\n",
        "473       SC/AH Basle 541\n",
        "474                  7553\n",
        "475                110465\n",
        "476                 31027\n",
        "477                  3460\n",
        "478                350060\n",
        "479               3101298\n",
        "480               CA 2144\n",
        "481                239854\n",
        "482              A/5 3594\n",
        "483                  4134\n",
        "484                 11967\n",
        "485                  4133\n",
        "486                 19943\n",
        "487                 11771\n",
        "488            A.5. 18509\n",
        "489            C.A. 37671\n",
        "490                 65304\n",
        "491      SOTON/OQ 3101317\n",
        "492                113787\n",
        "493              PC 17609\n",
        "494             A/4 45380\n",
        "495                  2627\n",
        "496                 36947\n",
        "497             C.A. 6212\n",
        "498                113781\n",
        "499                350035\n",
        "500                315086\n",
        "501                364846\n",
        "502                330909\n",
        "503                  4135\n",
        "504                110152\n",
        "505              PC 17758\n",
        "506                 26360\n",
        "507                111427\n",
        "508                C 4001\n",
        "509                  1601\n",
        "510                382651\n",
        "511      SOTON/OQ 3101316\n",
        "512              PC 17473\n",
        "513              PC 17603\n",
        "514                349209\n",
        "515                 36967\n",
        "516            C.A. 34260\n",
        "517                371110\n",
        "518                226875\n",
        "519                349242\n",
        "520                 12749\n",
        "521                349252\n",
        "522                  2624\n",
        "523                111361\n",
        "524                  2700\n",
        "525                367232\n",
        "526           W./C. 14258\n",
        "527              PC 17483\n",
        "528               3101296\n",
        "529                 29104\n",
        "530                 26360\n",
        "531                  2641\n",
        "532                  2690\n",
        "533                  2668\n",
        "534                315084\n",
        "535          F.C.C. 13529\n",
        "536                113050\n",
        "537              PC 17761\n",
        "538                364498\n",
        "539                 13568\n",
        "540             WE/P 5735\n",
        "541                347082\n",
        "542                347082\n",
        "543                  2908\n",
        "544              PC 17761\n",
        "545                   693\n",
        "546                  2908\n",
        "547         SC/PARIS 2146\n",
        "548                363291\n",
        "549            C.A. 33112\n",
        "550                 17421\n",
        "551                244358\n",
        "552                330979\n",
        "553                  2620\n",
        "554                347085\n",
        "555                113807\n",
        "556                 11755\n",
        "557              PC 17757\n",
        "558                110413\n",
        "559                345572\n",
        "560                372622\n",
        "561                349251\n",
        "562                218629\n",
        "563       SOTON/OQ 392082\n",
        "564     SOTON/O.Q. 392087\n",
        "565             A/4 48871\n",
        "566                349205\n",
        "567                349909\n",
        "568                  2686\n",
        "569                350417\n",
        "570           S.W./PP 752\n",
        "571                 11769\n",
        "572              PC 17474\n",
        "573                 14312\n",
        "574            A/4. 20589\n",
        "575                358585\n",
        "576                243880\n",
        "577                 13507\n",
        "578                  2689\n",
        "579     STON/O 2. 3101286\n",
        "580                237789\n",
        "581                 17421\n",
        "582                 28403\n",
        "583                 13049\n",
        "584                  3411\n",
        "585                110413\n",
        "586                237565\n",
        "587                 13567\n",
        "588                 14973\n",
        "589            A./5. 3235\n",
        "590     STON/O 2. 3101273\n",
        "591                 36947\n",
        "592              A/5 3902\n",
        "593                364848\n",
        "594           SC/AH 29037\n",
        "595                345773\n",
        "596                248727\n",
        "597                  LINE\n",
        "598                  2664\n",
        "599              PC 17485\n",
        "600                243847\n",
        "601                349214\n",
        "602                113796\n",
        "603                364511\n",
        "604                111426\n",
        "605                349910\n",
        "606                349246\n",
        "607                113804\n",
        "608         SC/Paris 2123\n",
        "609              PC 17582\n",
        "610                347082\n",
        "611    SOTON/O.Q. 3101305\n",
        "612                367230\n",
        "613                370377\n",
        "614                364512\n",
        "615                220845\n",
        "616                347080\n",
        "617             A/5. 3336\n",
        "618                230136\n",
        "619                 31028\n",
        "620                  2659\n",
        "621                 11753\n",
        "622                  2653\n",
        "623                350029\n",
        "624                 54636\n",
        "625                 36963\n",
        "626                219533\n",
        "627                 13502\n",
        "628                349224\n",
        "629                334912\n",
        "630                 27042\n",
        "631                347743\n",
        "632                 13214\n",
        "633                112052\n",
        "634                347088\n",
        "635                237668\n",
        "636     STON/O 2. 3101292\n",
        "637            C.A. 31921\n",
        "638               3101295\n",
        "639                376564\n",
        "640                350050\n",
        "641              PC 17477\n",
        "642                347088\n",
        "643                  1601\n",
        "644                  2666\n",
        "645              PC 17572\n",
        "646                349231\n",
        "647                 13213\n",
        "648         S.O./P.P. 751\n",
        "649              CA. 2314\n",
        "650                349221\n",
        "651                231919\n",
        "652                  8475\n",
        "653                330919\n",
        "654                365226\n",
        "655          S.O.C. 14879\n",
        "656                349223\n",
        "657                364849\n",
        "658                 29751\n",
        "659                 35273\n",
        "660              PC 17611\n",
        "661                  2623\n",
        "662                  5727\n",
        "663                349210\n",
        "664     STON/O 2. 3101285\n",
        "665          S.O.C. 14879\n",
        "666                234686\n",
        "667                312993\n",
        "668              A/5 3536\n",
        "669                 19996\n",
        "670                 29750\n",
        "671            F.C. 12750\n",
        "672            C.A. 24580\n",
        "673                244270\n",
        "674                239856\n",
        "675                349912\n",
        "676                342826\n",
        "677                  4138\n",
        "678               CA 2144\n",
        "679              PC 17755\n",
        "680                330935\n",
        "681              PC 17572\n",
        "682                  6563\n",
        "683               CA 2144\n",
        "684                 29750\n",
        "685         SC/Paris 2123\n",
        "686               3101295\n",
        "687                349228\n",
        "688                350036\n",
        "689                 24160\n",
        "690                 17474\n",
        "691                349256\n",
        "692                  1601\n",
        "693                  2672\n",
        "694                113800\n",
        "695                248731\n",
        "696                363592\n",
        "697                 35852\n",
        "698                 17421\n",
        "699                348121\n",
        "700              PC 17757\n",
        "701              PC 17475\n",
        "702                  2691\n",
        "703                 36864\n",
        "704                350025\n",
        "705                250655\n",
        "706                223596\n",
        "707              PC 17476\n",
        "708                113781\n",
        "709                  2661\n",
        "710              PC 17482\n",
        "711                113028\n",
        "712                 19996\n",
        "713                  7545\n",
        "714                250647\n",
        "715                348124\n",
        "716              PC 17757\n",
        "717                 34218\n",
        "718                 36568\n",
        "719                347062\n",
        "720                248727\n",
        "721                350048\n",
        "722                 12233\n",
        "723                250643\n",
        "724                113806\n",
        "725                315094\n",
        "726                 31027\n",
        "727                 36866\n",
        "728                236853\n",
        "729      STON/O2. 3101271\n",
        "730                 24160\n",
        "731                  2699\n",
        "732                239855\n",
        "733                 28425\n",
        "734                233639\n",
        "735                 54636\n",
        "736            W./C. 6608\n",
        "737              PC 17755\n",
        "738                349201\n",
        "739                349218\n",
        "740                 16988\n",
        "741                 19877\n",
        "742              PC 17608\n",
        "743                376566\n",
        "744     STON/O 2. 3101288\n",
        "745             WE/P 5735\n",
        "746             C.A. 2673\n",
        "747                250648\n",
        "748                113773\n",
        "749                335097\n",
        "750                 29103\n",
        "751                392096\n",
        "752                345780\n",
        "753                349204\n",
        "754                220845\n",
        "755                250649\n",
        "756                350042\n",
        "757                 29108\n",
        "758                363294\n",
        "759                110152\n",
        "760                358585\n",
        "761      SOTON/O2 3101272\n",
        "762                  2663\n",
        "763                113760\n",
        "764                347074\n",
        "765                 13502\n",
        "766                112379\n",
        "767                364850\n",
        "768                371110\n",
        "769                  8471\n",
        "770                345781\n",
        "771                350047\n",
        "772           S.O./P.P. 3\n",
        "773                  2674\n",
        "774                 29105\n",
        "775                347078\n",
        "776                383121\n",
        "777                364516\n",
        "778                 36865\n",
        "779                 24160\n",
        "780                  2687\n",
        "781                 17474\n",
        "782                113501\n",
        "783            W./C. 6607\n",
        "784    SOTON/O.Q. 3101312\n",
        "785                374887\n",
        "786               3101265\n",
        "787                382652\n",
        "788             C.A. 2315\n",
        "789              PC 17593\n",
        "790                 12460\n",
        "791                239865\n",
        "792              CA. 2343\n",
        "793              PC 17600\n",
        "794                349203\n",
        "795                 28213\n",
        "796                 17465\n",
        "797                349244\n",
        "798                  2685\n",
        "799                345773\n",
        "Name: Ticket, Length: 800, dtype: object\n"
       ]
      }
     ],
     "prompt_number": 299
    },
    {
     "cell_type": "code",
     "collapsed": false,
     "input": [],
     "language": "python",
     "metadata": {},
     "outputs": [],
     "prompt_number": 184
    }
   ],
   "metadata": {}
  }
 ]
}